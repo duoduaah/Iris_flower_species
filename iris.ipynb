{
  "nbformat": 4,
  "nbformat_minor": 0,
  "metadata": {
    "kernelspec": {
      "display_name": "Python 3",
      "language": "python",
      "name": "python3"
    },
    "language_info": {
      "codemirror_mode": {
        "name": "ipython",
        "version": 3
      },
      "file_extension": ".py",
      "mimetype": "text/x-python",
      "name": "python",
      "nbconvert_exporter": "python",
      "pygments_lexer": "ipython3",
      "version": "3.7.4"
    },
    "colab": {
      "name": "Copy of Assignment1-KNN.ipynb",
      "provenance": [],
      "collapsed_sections": []
    }
  },
  "cells": [
    {
      "cell_type": "markdown",
      "metadata": {
        "id": "qghfFzfIOaNm"
      },
      "source": [
        "# Assignment 1:\n",
        "In this assignment you will practice putting together a simple machine learning pipeline and to implement the K-nearest neighbor algorithm. You will familiairze yourselves with different python libraries (scikit-learn, matplotlib, pandas) that are helpful tools for machine learning."
      ]
    },
    {
      "cell_type": "markdown",
      "metadata": {
        "id": "khqCyUn_OaNn"
      },
      "source": [
        "## 1. Preparing the data\n",
        "\n",
        "In this assignment we will use the Iris Flower Species Dataset. This dataset consists of 3 different types of irise species (Setosa, Versicolour, and Virginica) where we have the following measures for each flower sample: the petal length, the sepal length, the petal width, the sepal width.\n",
        "\n",
        "Below is an example.\n",
        "\n",
        "\n"
      ]
    },
    {
      "cell_type": "markdown",
      "metadata": {
        "id": "Gg8psoYLytNh"
      },
      "source": [
        "![Drag Racing](https://www.integratedots.com/wp-content/uploads/2019/06/iris_petal-sepal-e1560211020463.png)"
      ]
    },
    {
      "cell_type": "markdown",
      "metadata": {
        "id": "-Mb_MGnXzUxr"
      },
      "source": [
        "This data is stored in a 150x4 numpy array, where 150 is the number of sample flowers and 4 is the measured features for each.  Go through the following steps to download the data."
      ]
    },
    {
      "cell_type": "code",
      "metadata": {
        "id": "CpxSlYFJzk9e",
        "outputId": "074a1cd5-b8e2-4375-a3cf-60af7340a71a",
        "colab": {
          "base_uri": "https://localhost:8080/",
          "height": 204
        }
      },
      "source": [
        "from sklearn import datasets\n",
        "import pandas as pd\n",
        "\n",
        "iris = datasets.load_iris()\n",
        "\n",
        "# We use pandas dataframe to see the table\n",
        "df = pd.DataFrame(iris.data, columns=iris.feature_names)\n",
        "df.head()"
      ],
      "execution_count": null,
      "outputs": [
        {
          "output_type": "execute_result",
          "data": {
            "text/html": [
              "\n",
              "  <div id=\"df-c1d73805-94f8-4e15-9960-44351e152cfd\">\n",
              "    <div class=\"colab-df-container\">\n",
              "      <div>\n",
              "<style scoped>\n",
              "    .dataframe tbody tr th:only-of-type {\n",
              "        vertical-align: middle;\n",
              "    }\n",
              "\n",
              "    .dataframe tbody tr th {\n",
              "        vertical-align: top;\n",
              "    }\n",
              "\n",
              "    .dataframe thead th {\n",
              "        text-align: right;\n",
              "    }\n",
              "</style>\n",
              "<table border=\"1\" class=\"dataframe\">\n",
              "  <thead>\n",
              "    <tr style=\"text-align: right;\">\n",
              "      <th></th>\n",
              "      <th>sepal length (cm)</th>\n",
              "      <th>sepal width (cm)</th>\n",
              "      <th>petal length (cm)</th>\n",
              "      <th>petal width (cm)</th>\n",
              "    </tr>\n",
              "  </thead>\n",
              "  <tbody>\n",
              "    <tr>\n",
              "      <th>0</th>\n",
              "      <td>5.1</td>\n",
              "      <td>3.5</td>\n",
              "      <td>1.4</td>\n",
              "      <td>0.2</td>\n",
              "    </tr>\n",
              "    <tr>\n",
              "      <th>1</th>\n",
              "      <td>4.9</td>\n",
              "      <td>3.0</td>\n",
              "      <td>1.4</td>\n",
              "      <td>0.2</td>\n",
              "    </tr>\n",
              "    <tr>\n",
              "      <th>2</th>\n",
              "      <td>4.7</td>\n",
              "      <td>3.2</td>\n",
              "      <td>1.3</td>\n",
              "      <td>0.2</td>\n",
              "    </tr>\n",
              "    <tr>\n",
              "      <th>3</th>\n",
              "      <td>4.6</td>\n",
              "      <td>3.1</td>\n",
              "      <td>1.5</td>\n",
              "      <td>0.2</td>\n",
              "    </tr>\n",
              "    <tr>\n",
              "      <th>4</th>\n",
              "      <td>5.0</td>\n",
              "      <td>3.6</td>\n",
              "      <td>1.4</td>\n",
              "      <td>0.2</td>\n",
              "    </tr>\n",
              "  </tbody>\n",
              "</table>\n",
              "</div>\n",
              "      <button class=\"colab-df-convert\" onclick=\"convertToInteractive('df-c1d73805-94f8-4e15-9960-44351e152cfd')\"\n",
              "              title=\"Convert this dataframe to an interactive table.\"\n",
              "              style=\"display:none;\">\n",
              "        \n",
              "  <svg xmlns=\"http://www.w3.org/2000/svg\" height=\"24px\"viewBox=\"0 0 24 24\"\n",
              "       width=\"24px\">\n",
              "    <path d=\"M0 0h24v24H0V0z\" fill=\"none\"/>\n",
              "    <path d=\"M18.56 5.44l.94 2.06.94-2.06 2.06-.94-2.06-.94-.94-2.06-.94 2.06-2.06.94zm-11 1L8.5 8.5l.94-2.06 2.06-.94-2.06-.94L8.5 2.5l-.94 2.06-2.06.94zm10 10l.94 2.06.94-2.06 2.06-.94-2.06-.94-.94-2.06-.94 2.06-2.06.94z\"/><path d=\"M17.41 7.96l-1.37-1.37c-.4-.4-.92-.59-1.43-.59-.52 0-1.04.2-1.43.59L10.3 9.45l-7.72 7.72c-.78.78-.78 2.05 0 2.83L4 21.41c.39.39.9.59 1.41.59.51 0 1.02-.2 1.41-.59l7.78-7.78 2.81-2.81c.8-.78.8-2.07 0-2.86zM5.41 20L4 18.59l7.72-7.72 1.47 1.35L5.41 20z\"/>\n",
              "  </svg>\n",
              "      </button>\n",
              "      \n",
              "  <style>\n",
              "    .colab-df-container {\n",
              "      display:flex;\n",
              "      flex-wrap:wrap;\n",
              "      gap: 12px;\n",
              "    }\n",
              "\n",
              "    .colab-df-convert {\n",
              "      background-color: #E8F0FE;\n",
              "      border: none;\n",
              "      border-radius: 50%;\n",
              "      cursor: pointer;\n",
              "      display: none;\n",
              "      fill: #1967D2;\n",
              "      height: 32px;\n",
              "      padding: 0 0 0 0;\n",
              "      width: 32px;\n",
              "    }\n",
              "\n",
              "    .colab-df-convert:hover {\n",
              "      background-color: #E2EBFA;\n",
              "      box-shadow: 0px 1px 2px rgba(60, 64, 67, 0.3), 0px 1px 3px 1px rgba(60, 64, 67, 0.15);\n",
              "      fill: #174EA6;\n",
              "    }\n",
              "\n",
              "    [theme=dark] .colab-df-convert {\n",
              "      background-color: #3B4455;\n",
              "      fill: #D2E3FC;\n",
              "    }\n",
              "\n",
              "    [theme=dark] .colab-df-convert:hover {\n",
              "      background-color: #434B5C;\n",
              "      box-shadow: 0px 1px 3px 1px rgba(0, 0, 0, 0.15);\n",
              "      filter: drop-shadow(0px 1px 2px rgba(0, 0, 0, 0.3));\n",
              "      fill: #FFFFFF;\n",
              "    }\n",
              "  </style>\n",
              "\n",
              "      <script>\n",
              "        const buttonEl =\n",
              "          document.querySelector('#df-c1d73805-94f8-4e15-9960-44351e152cfd button.colab-df-convert');\n",
              "        buttonEl.style.display =\n",
              "          google.colab.kernel.accessAllowed ? 'block' : 'none';\n",
              "\n",
              "        async function convertToInteractive(key) {\n",
              "          const element = document.querySelector('#df-c1d73805-94f8-4e15-9960-44351e152cfd');\n",
              "          const dataTable =\n",
              "            await google.colab.kernel.invokeFunction('convertToInteractive',\n",
              "                                                     [key], {});\n",
              "          if (!dataTable) return;\n",
              "\n",
              "          const docLinkHtml = 'Like what you see? Visit the ' +\n",
              "            '<a target=\"_blank\" href=https://colab.research.google.com/notebooks/data_table.ipynb>data table notebook</a>'\n",
              "            + ' to learn more about interactive tables.';\n",
              "          element.innerHTML = '';\n",
              "          dataTable['output_type'] = 'display_data';\n",
              "          await google.colab.output.renderOutput(dataTable, element);\n",
              "          const docLink = document.createElement('div');\n",
              "          docLink.innerHTML = docLinkHtml;\n",
              "          element.appendChild(docLink);\n",
              "        }\n",
              "      </script>\n",
              "    </div>\n",
              "  </div>\n",
              "  "
            ],
            "text/plain": [
              "   sepal length (cm)  sepal width (cm)  petal length (cm)  petal width (cm)\n",
              "0                5.1               3.5                1.4               0.2\n",
              "1                4.9               3.0                1.4               0.2\n",
              "2                4.7               3.2                1.3               0.2\n",
              "3                4.6               3.1                1.5               0.2\n",
              "4                5.0               3.6                1.4               0.2"
            ]
          },
          "metadata": {},
          "execution_count": 1
        }
      ]
    },
    {
      "cell_type": "code",
      "metadata": {
        "id": "T0uMkFGJAUMF",
        "outputId": "a3932dca-0c3e-47d3-d2eb-781e9e993958",
        "colab": {
          "base_uri": "https://localhost:8080/"
        }
      },
      "source": [
        "# Setosa, Versicolour, and Virginica\n",
        "iris.target"
      ],
      "execution_count": null,
      "outputs": [
        {
          "output_type": "execute_result",
          "data": {
            "text/plain": [
              "array([0, 0, 0, 0, 0, 0, 0, 0, 0, 0, 0, 0, 0, 0, 0, 0, 0, 0, 0, 0, 0, 0,\n",
              "       0, 0, 0, 0, 0, 0, 0, 0, 0, 0, 0, 0, 0, 0, 0, 0, 0, 0, 0, 0, 0, 0,\n",
              "       0, 0, 0, 0, 0, 0, 1, 1, 1, 1, 1, 1, 1, 1, 1, 1, 1, 1, 1, 1, 1, 1,\n",
              "       1, 1, 1, 1, 1, 1, 1, 1, 1, 1, 1, 1, 1, 1, 1, 1, 1, 1, 1, 1, 1, 1,\n",
              "       1, 1, 1, 1, 1, 1, 1, 1, 1, 1, 1, 1, 2, 2, 2, 2, 2, 2, 2, 2, 2, 2,\n",
              "       2, 2, 2, 2, 2, 2, 2, 2, 2, 2, 2, 2, 2, 2, 2, 2, 2, 2, 2, 2, 2, 2,\n",
              "       2, 2, 2, 2, 2, 2, 2, 2, 2, 2, 2, 2, 2, 2, 2, 2, 2, 2])"
            ]
          },
          "metadata": {},
          "execution_count": 2
        }
      ]
    },
    {
      "cell_type": "markdown",
      "metadata": {
        "id": "GsrXTiOA0Pg9"
      },
      "source": [
        "We use pandas dataframe to see the statistics of this data."
      ]
    },
    {
      "cell_type": "code",
      "metadata": {
        "id": "Dm5nDQNi0N5b",
        "outputId": "7a5dd14d-40c2-4973-9be4-22355c4e099a",
        "colab": {
          "base_uri": "https://localhost:8080/",
          "height": 297
        }
      },
      "source": [
        "df.describe()"
      ],
      "execution_count": null,
      "outputs": [
        {
          "output_type": "execute_result",
          "data": {
            "text/html": [
              "\n",
              "  <div id=\"df-e4a9a20d-09ca-4df9-952e-5c43a4a034c8\">\n",
              "    <div class=\"colab-df-container\">\n",
              "      <div>\n",
              "<style scoped>\n",
              "    .dataframe tbody tr th:only-of-type {\n",
              "        vertical-align: middle;\n",
              "    }\n",
              "\n",
              "    .dataframe tbody tr th {\n",
              "        vertical-align: top;\n",
              "    }\n",
              "\n",
              "    .dataframe thead th {\n",
              "        text-align: right;\n",
              "    }\n",
              "</style>\n",
              "<table border=\"1\" class=\"dataframe\">\n",
              "  <thead>\n",
              "    <tr style=\"text-align: right;\">\n",
              "      <th></th>\n",
              "      <th>sepal length (cm)</th>\n",
              "      <th>sepal width (cm)</th>\n",
              "      <th>petal length (cm)</th>\n",
              "      <th>petal width (cm)</th>\n",
              "    </tr>\n",
              "  </thead>\n",
              "  <tbody>\n",
              "    <tr>\n",
              "      <th>count</th>\n",
              "      <td>150.000000</td>\n",
              "      <td>150.000000</td>\n",
              "      <td>150.000000</td>\n",
              "      <td>150.000000</td>\n",
              "    </tr>\n",
              "    <tr>\n",
              "      <th>mean</th>\n",
              "      <td>5.843333</td>\n",
              "      <td>3.057333</td>\n",
              "      <td>3.758000</td>\n",
              "      <td>1.199333</td>\n",
              "    </tr>\n",
              "    <tr>\n",
              "      <th>std</th>\n",
              "      <td>0.828066</td>\n",
              "      <td>0.435866</td>\n",
              "      <td>1.765298</td>\n",
              "      <td>0.762238</td>\n",
              "    </tr>\n",
              "    <tr>\n",
              "      <th>min</th>\n",
              "      <td>4.300000</td>\n",
              "      <td>2.000000</td>\n",
              "      <td>1.000000</td>\n",
              "      <td>0.100000</td>\n",
              "    </tr>\n",
              "    <tr>\n",
              "      <th>25%</th>\n",
              "      <td>5.100000</td>\n",
              "      <td>2.800000</td>\n",
              "      <td>1.600000</td>\n",
              "      <td>0.300000</td>\n",
              "    </tr>\n",
              "    <tr>\n",
              "      <th>50%</th>\n",
              "      <td>5.800000</td>\n",
              "      <td>3.000000</td>\n",
              "      <td>4.350000</td>\n",
              "      <td>1.300000</td>\n",
              "    </tr>\n",
              "    <tr>\n",
              "      <th>75%</th>\n",
              "      <td>6.400000</td>\n",
              "      <td>3.300000</td>\n",
              "      <td>5.100000</td>\n",
              "      <td>1.800000</td>\n",
              "    </tr>\n",
              "    <tr>\n",
              "      <th>max</th>\n",
              "      <td>7.900000</td>\n",
              "      <td>4.400000</td>\n",
              "      <td>6.900000</td>\n",
              "      <td>2.500000</td>\n",
              "    </tr>\n",
              "  </tbody>\n",
              "</table>\n",
              "</div>\n",
              "      <button class=\"colab-df-convert\" onclick=\"convertToInteractive('df-e4a9a20d-09ca-4df9-952e-5c43a4a034c8')\"\n",
              "              title=\"Convert this dataframe to an interactive table.\"\n",
              "              style=\"display:none;\">\n",
              "        \n",
              "  <svg xmlns=\"http://www.w3.org/2000/svg\" height=\"24px\"viewBox=\"0 0 24 24\"\n",
              "       width=\"24px\">\n",
              "    <path d=\"M0 0h24v24H0V0z\" fill=\"none\"/>\n",
              "    <path d=\"M18.56 5.44l.94 2.06.94-2.06 2.06-.94-2.06-.94-.94-2.06-.94 2.06-2.06.94zm-11 1L8.5 8.5l.94-2.06 2.06-.94-2.06-.94L8.5 2.5l-.94 2.06-2.06.94zm10 10l.94 2.06.94-2.06 2.06-.94-2.06-.94-.94-2.06-.94 2.06-2.06.94z\"/><path d=\"M17.41 7.96l-1.37-1.37c-.4-.4-.92-.59-1.43-.59-.52 0-1.04.2-1.43.59L10.3 9.45l-7.72 7.72c-.78.78-.78 2.05 0 2.83L4 21.41c.39.39.9.59 1.41.59.51 0 1.02-.2 1.41-.59l7.78-7.78 2.81-2.81c.8-.78.8-2.07 0-2.86zM5.41 20L4 18.59l7.72-7.72 1.47 1.35L5.41 20z\"/>\n",
              "  </svg>\n",
              "      </button>\n",
              "      \n",
              "  <style>\n",
              "    .colab-df-container {\n",
              "      display:flex;\n",
              "      flex-wrap:wrap;\n",
              "      gap: 12px;\n",
              "    }\n",
              "\n",
              "    .colab-df-convert {\n",
              "      background-color: #E8F0FE;\n",
              "      border: none;\n",
              "      border-radius: 50%;\n",
              "      cursor: pointer;\n",
              "      display: none;\n",
              "      fill: #1967D2;\n",
              "      height: 32px;\n",
              "      padding: 0 0 0 0;\n",
              "      width: 32px;\n",
              "    }\n",
              "\n",
              "    .colab-df-convert:hover {\n",
              "      background-color: #E2EBFA;\n",
              "      box-shadow: 0px 1px 2px rgba(60, 64, 67, 0.3), 0px 1px 3px 1px rgba(60, 64, 67, 0.15);\n",
              "      fill: #174EA6;\n",
              "    }\n",
              "\n",
              "    [theme=dark] .colab-df-convert {\n",
              "      background-color: #3B4455;\n",
              "      fill: #D2E3FC;\n",
              "    }\n",
              "\n",
              "    [theme=dark] .colab-df-convert:hover {\n",
              "      background-color: #434B5C;\n",
              "      box-shadow: 0px 1px 3px 1px rgba(0, 0, 0, 0.15);\n",
              "      filter: drop-shadow(0px 1px 2px rgba(0, 0, 0, 0.3));\n",
              "      fill: #FFFFFF;\n",
              "    }\n",
              "  </style>\n",
              "\n",
              "      <script>\n",
              "        const buttonEl =\n",
              "          document.querySelector('#df-e4a9a20d-09ca-4df9-952e-5c43a4a034c8 button.colab-df-convert');\n",
              "        buttonEl.style.display =\n",
              "          google.colab.kernel.accessAllowed ? 'block' : 'none';\n",
              "\n",
              "        async function convertToInteractive(key) {\n",
              "          const element = document.querySelector('#df-e4a9a20d-09ca-4df9-952e-5c43a4a034c8');\n",
              "          const dataTable =\n",
              "            await google.colab.kernel.invokeFunction('convertToInteractive',\n",
              "                                                     [key], {});\n",
              "          if (!dataTable) return;\n",
              "\n",
              "          const docLinkHtml = 'Like what you see? Visit the ' +\n",
              "            '<a target=\"_blank\" href=https://colab.research.google.com/notebooks/data_table.ipynb>data table notebook</a>'\n",
              "            + ' to learn more about interactive tables.';\n",
              "          element.innerHTML = '';\n",
              "          dataTable['output_type'] = 'display_data';\n",
              "          await google.colab.output.renderOutput(dataTable, element);\n",
              "          const docLink = document.createElement('div');\n",
              "          docLink.innerHTML = docLinkHtml;\n",
              "          element.appendChild(docLink);\n",
              "        }\n",
              "      </script>\n",
              "    </div>\n",
              "  </div>\n",
              "  "
            ],
            "text/plain": [
              "       sepal length (cm)  sepal width (cm)  petal length (cm)  petal width (cm)\n",
              "count         150.000000        150.000000         150.000000        150.000000\n",
              "mean            5.843333          3.057333           3.758000          1.199333\n",
              "std             0.828066          0.435866           1.765298          0.762238\n",
              "min             4.300000          2.000000           1.000000          0.100000\n",
              "25%             5.100000          2.800000           1.600000          0.300000\n",
              "50%             5.800000          3.000000           4.350000          1.300000\n",
              "75%             6.400000          3.300000           5.100000          1.800000\n",
              "max             7.900000          4.400000           6.900000          2.500000"
            ]
          },
          "metadata": {},
          "execution_count": 3
        }
      ]
    },
    {
      "cell_type": "markdown",
      "metadata": {
        "id": "U7ZqoZd5ziX-"
      },
      "source": [
        "In this assignment we only use the first two features (sepal length and width) for easier visualization. We also split the dataset into 2 cohorts for training and testing."
      ]
    },
    {
      "cell_type": "code",
      "metadata": {
        "id": "lmeeqnuZOaNo",
        "outputId": "f9e34d66-3334-4149-fb49-4dc2e89dc6d5",
        "colab": {
          "base_uri": "https://localhost:8080/"
        }
      },
      "source": [
        "from sklearn.model_selection import train_test_split\n",
        "\n",
        "X = iris.data[:, :2] # The data matrix \n",
        "y = iris.target # The class labels\n",
        "\n",
        "# We take 20% as test set\n",
        "X_train, X_test, y_train, y_test = train_test_split(X, y, test_size=0.2, random_state=42)\n",
        "X_train.shape, X_test.shape"
      ],
      "execution_count": null,
      "outputs": [
        {
          "output_type": "execute_result",
          "data": {
            "text/plain": [
              "((120, 2), (30, 2))"
            ]
          },
          "metadata": {},
          "execution_count": 4
        }
      ]
    },
    {
      "cell_type": "markdown",
      "metadata": {
        "id": "_IEFcgJeOaNt"
      },
      "source": [
        "Now let's visualize this data to get some sense of the samples. "
      ]
    },
    {
      "cell_type": "code",
      "metadata": {
        "id": "MoqwjDkjOaNt",
        "outputId": "f437ff5b-ac69-417c-9ed8-e5798bd52c1b",
        "colab": {
          "base_uri": "https://localhost:8080/",
          "height": 407
        }
      },
      "source": [
        "import matplotlib.pyplot as plt\n",
        "\n",
        "f, axs = plt.subplots(figsize=(8,6))\n",
        "the_scatter = axs.scatter(X[:, 0], X[:, 1], c=y,\n",
        "            cmap=plt.cm.Set1, edgecolor='k')\n",
        "\n",
        "# Change the legend name of the class to be Iris species like Setosa, Versicolour etc...\n",
        "lines, legend_names = the_scatter.legend_elements()\n",
        "legend1 = axs.legend(lines, ['Setosa', 'Versicolour', 'Virginica'], title=\"Classes\")\n",
        "axs.add_artist(legend1)\n",
        "\n",
        "axs.set_xlabel('Sepal length')\n",
        "axs.set_ylabel('Sepal width')\n",
        "axs.legend()\n",
        "\n",
        "plt.show()"
      ],
      "execution_count": null,
      "outputs": [
        {
          "output_type": "stream",
          "name": "stderr",
          "text": [
            "No handles with labels found to put in legend.\n"
          ]
        },
        {
          "output_type": "display_data",
          "data": {
            "image/png": "[encoded data removed]",
            "text/plain": [
              "<Figure size 576x432 with 1 Axes>"
            ]
          },
          "metadata": {
            "needs_background": "light"
          }
        }
      ]
    },
    {
      "cell_type": "markdown",
      "metadata": {
        "id": "-K9FSFSEOaNw"
      },
      "source": [
        "## 2. Implemeting K-Nearest Neighbors\n",
        "Now we want to implement the K-nearest neighbor algorithm. \n",
        "\n",
        "(2pts) Fill in the code block below for calculating the distance between two vectors."
      ]
    },
    {
      "cell_type": "code",
      "metadata": {
        "id": "6ghmx_E6OaNw"
      },
      "source": [
        "from math import sqrt\n",
        "import numpy as np\n",
        "\n",
        "# calculate the Euclidean distance between two vectors\n",
        "def euclidean_distance(x1, x2):\n",
        "    distance = 0.0\n",
        "    ## TODO: fill in this part of the code to return the euclidean distance \n",
        "    ##       between x1 and x2. (hint: you can use sqrt from math library)\n",
        "    distance = sqrt(np.sum(np.square(x1 - x2)))\n",
        "    return distance\n",
        "\n",
        "# This is a helper function to print information on each sample\n",
        "def print_features(x,y):\n",
        "    print('Iris type:', ['Setosa', 'Versicolour', 'Virginica'][y-1])\n",
        "    print('Sepal Length: %.1f \\t Sepal Width: %.1f'%(x[0], x[1]))   "
      ],
      "execution_count": null,
      "outputs": []
    },
    {
      "cell_type": "markdown",
      "metadata": {
        "id": "SbRG8WEkOaNz"
      },
      "source": [
        "Then we calculate the euclidean distance to a test example"
      ]
    },
    {
      "cell_type": "code",
      "metadata": {
        "id": "No6r55ZsOaNz",
        "outputId": "0182638e-5a2e-4356-b5b2-ba1e565a8beb",
        "colab": {
          "base_uri": "https://localhost:8080/"
        }
      },
      "source": [
        "# We randomly pick a test example\n",
        "sample = X_test[10]\n",
        "print('Test Sample:')\n",
        "print_features(sample, y_test[10])\n",
        "\n",
        "# Calculate the euclidean distance to this test example\n",
        "distances = []\n",
        "for i, row in enumerate(X_train):\n",
        "    distance = euclidean_distance(sample, row)\n",
        "    distances.append((i, distance))\n",
        "distances.sort(key=lambda tup: tup[1])\n",
        "\n",
        "k = 2 # Number of nearest neighbors\n",
        "print('\\nTop %d Nearest Neighbors:' % k)\n",
        "for nn in range(k):\n",
        "    print_features(X_train[distances[nn][0]], y_train[distances[nn][0]])"
      ],
      "execution_count": null,
      "outputs": [
        {
          "output_type": "stream",
          "name": "stdout",
          "text": [
            "Test Sample:\n",
            "Iris type: Versicolour\n",
            "Sepal Length: 6.5 \t Sepal Width: 3.2\n",
            "\n",
            "Top 2 Nearest Neighbors:\n",
            "Iris type: Setosa\n",
            "Sepal Length: 6.4 \t Sepal Width: 3.2\n",
            "Iris type: Versicolour\n",
            "Sepal Length: 6.4 \t Sepal Width: 3.2\n"
          ]
        }
      ]
    },
    {
      "cell_type": "markdown",
      "metadata": {
        "id": "EaNEdUjnOaN2"
      },
      "source": [
        "We can calculate the distance for all the pairs of test examples. For example, if there are **Ntr** training examples and **Nte** test examples, this stage should result in a **Nte x Ntr** matrix where each element (i,j) is the distance between the i-th test and j-th train example."
      ]
    },
    {
      "cell_type": "code",
      "metadata": {
        "id": "xfxQN1vIOaN3",
        "outputId": "8c365941-4591-476a-835b-2c29d6e816ee",
        "colab": {
          "base_uri": "https://localhost:8080/",
          "height": 326
        }
      },
      "source": [
        "import numpy as np\n",
        "\n",
        "distances = []\n",
        "for x_test in X_test:\n",
        "    distance = np.sum((x_test[np.newaxis, ...] - X_train) ** 2, axis=1)\n",
        "    distances.append(distance)\n",
        "\n",
        "distances = np.array(distances)\n",
        "plt.figure(figsize=(15, 5))\n",
        "plt.imshow(distances)\n",
        "plt.colorbar()\n",
        "plt.xlabel('Training examples id')\n",
        "plt.ylabel('Test examples id')"
      ],
      "execution_count": null,
      "outputs": [
        {
          "output_type": "execute_result",
          "data": {
            "text/plain": [
              "Text(0, 0.5, 'Test examples id')"
            ]
          },
          "metadata": {},
          "execution_count": 8
        },
        {
          "output_type": "display_data",
          "data": {
            "image/png": "[encoded data removed]",
            "text/plain": [
              "<Figure size 1080x360 with 2 Axes>"
            ]
          },
          "metadata": {
            "needs_background": "light"
          }
        }
      ]
    },
    {
      "cell_type": "code",
      "source": [
        ""
      ],
      "metadata": {
        "id": "IK50_VgE04xR"
      },
      "execution_count": null,
      "outputs": []
    },
    {
      "cell_type": "markdown",
      "metadata": {
        "id": "05kZYs6cOaN5"
      },
      "source": [
        "### Question 1\n",
        "\n",
        "Notice the structured patterns in the distance matrix, where some rows or columns are visible brighter.\n",
        "\n",
        "1. (2 pts) Which training examples are probably more important for test predictions in a K nearest neighbor classifier? Why? \n",
        "2. (2 pts) Which test examples are closer to most of the training examples?\n",
        "\n",
        "$\\color{blue}{\\textit Answer :}$ \n",
        "\n",
        "\n",
        "1. From the figure, we may say there are some outliers in the train set and even in the test set. Provided k != 1, I think the outliers in the train set do not have a great impact during test prediction. Hence, I believe all  training examples are needed for prediction in a knn classifier. However for a test sample, Xi, the most important training examples for its prediction is the k training examples closest to Xi in terms of distance. \n",
        "\n",
        "2. With reference to the plotted figure and my visual perception of the figure, almost all the test examples are close to the training examples except those with indices [2, 4, 24 - 30]. However, the test examples closer to most of the training examples are indices [0, 1, 16, 19, 23] } $"
      ]
    },
    {
      "cell_type": "markdown",
      "metadata": {
        "id": "722jHcoEOaN6"
      },
      "source": [
        "\n",
        "Now we will use the scikit learn library to implement a simple KNN. "
      ]
    },
    {
      "cell_type": "code",
      "metadata": {
        "id": "BxK90tcJOaN6",
        "outputId": "a0687644-a6be-4c80-e531-bef723120682",
        "colab": {
          "base_uri": "https://localhost:8080/"
        }
      },
      "source": [
        "from sklearn.neighbors import KNeighborsClassifier\n",
        "\n",
        "k = 5 # Number of nearest neighbors\n",
        "neigh = KNeighborsClassifier(n_neighbors=k)\n",
        "neigh.fit(X_train, y_train)"
      ],
      "execution_count": null,
      "outputs": [
        {
          "output_type": "execute_result",
          "data": {
            "text/plain": [
              "KNeighborsClassifier()"
            ]
          },
          "metadata": {},
          "execution_count": 9
        }
      ]
    },
    {
      "cell_type": "markdown",
      "metadata": {
        "id": "HZxTcu_hOaN9"
      },
      "source": [
        "Let's pick a sample from our test set. Now we want to find the 5 closest neighbors of this sample from the training set. Complete the code segment below to find these samples and print out their features (hint: use kneighbors method for KNeighborsClassifier https://scikit-learn.org/stable/modules/generated/sklearn.neighbors.KNeighborsClassifier.html) (2 pts)\n",
        "\n"
      ]
    },
    {
      "cell_type": "code",
      "metadata": {
        "id": "Y-FK_dJmJrnS",
        "outputId": "8b1df12f-f973-404f-acf8-efc44d613865",
        "colab": {
          "base_uri": "https://localhost:8080/"
        }
      },
      "source": [
        "sample = X_test[10]\n",
        "print('A random sample chosen from the testset:')\n",
        "print_features(sample, y_test[10])\n",
        "\n",
        "## TODO: find the 5 closest samples from the training test to \"sample\"\n",
        "dists, neighbor_ids = neigh.kneighbors()\n",
        "\n",
        "#specify the right range value\n",
        "print('Closest 5 neighbors to this test sample:')\n",
        "for knn in range(5):\n",
        "    print('Neighbor %d ===> distance:%f'%(knn, dists[0][knn]))\n",
        "    print_features(X_train[neighbor_ids[0][knn]], y_train[neighbor_ids[0][knn]])"
      ],
      "execution_count": null,
      "outputs": [
        {
          "output_type": "stream",
          "name": "stdout",
          "text": [
            "A random sample chosen from the testset:\n",
            "Iris type: Versicolour\n",
            "Sepal Length: 6.5 \t Sepal Width: 3.2\n",
            "Closest 5 neighbors to this test sample:\n",
            "Neighbor 0 ===> distance:0.200000\n",
            "Iris type: Virginica\n",
            "Sepal Length: 4.6 \t Sepal Width: 3.4\n",
            "Neighbor 1 ===> distance:0.282843\n",
            "Iris type: Virginica\n",
            "Sepal Length: 4.8 \t Sepal Width: 3.4\n",
            "Neighbor 2 ===> distance:0.282843\n",
            "Iris type: Virginica\n",
            "Sepal Length: 4.8 \t Sepal Width: 3.4\n",
            "Neighbor 3 ===> distance:0.300000\n",
            "Iris type: Virginica\n",
            "Sepal Length: 4.9 \t Sepal Width: 3.6\n",
            "Neighbor 4 ===> distance:0.400000\n",
            "Iris type: Virginica\n",
            "Sepal Length: 4.6 \t Sepal Width: 3.2\n"
          ]
        }
      ]
    },
    {
      "cell_type": "markdown",
      "metadata": {
        "id": "hEyBPpw1OaOA"
      },
      "source": [
        "We can visualize the decision boundary"
      ]
    },
    {
      "cell_type": "code",
      "metadata": {
        "id": "x7BAHGbHOaOB"
      },
      "source": [
        "from matplotlib.colors import ListedColormap\n",
        "from sklearn import neighbors, datasets\n",
        "\n",
        "h = .02  # step size in the mesh\n",
        "# Create color maps\n",
        "cmap_light = ListedColormap(['orange', 'cyan', 'cornflowerblue'])\n",
        "cmap_bold = ListedColormap(['darkorange', 'c', 'darkblue'])"
      ],
      "execution_count": null,
      "outputs": []
    },
    {
      "cell_type": "code",
      "metadata": {
        "id": "9kSW2_VzOaOD",
        "outputId": "96fe227b-c933-460a-efd9-0efe5cbc8f8f",
        "colab": {
          "base_uri": "https://localhost:8080/",
          "height": 421
        }
      },
      "source": [
        "# Plot the decision boundary. For that, we will assign a color to each\n",
        "# point in the mesh [x_min, x_max]x[y_min, y_max].\n",
        "x_min, x_max = X_train[:, 0].min() - 1, X_train[:, 0].max() + 1\n",
        "y_min, y_max = X_train[:, 1].min() - 1, X_train[:, 1].max() + 1\n",
        "xx, yy = np.meshgrid(np.arange(x_min, x_max, h),\n",
        "                     np.arange(y_min, y_max, h))\n",
        "Z = neigh.predict(np.c_[xx.ravel(), yy.ravel()])\n",
        "\n",
        "# Put the result into a color plot\n",
        "Z = Z.reshape(xx.shape)\n",
        "fig, ax = plt.subplots(figsize=(8, 6))\n",
        "plt.pcolormesh(xx, yy, Z, cmap=cmap_light)\n",
        "\n",
        "# Plot also the training points\n",
        "the_scatter = ax.scatter(\n",
        "    X[:, 0], X[:, 1], c=y, cmap=cmap_bold, edgecolor='k', s=20)\n",
        "\n",
        "# Change the legend name of the class to be Iris species like Setosa, Versicolour etc...\n",
        "lines, legend_names = the_scatter.legend_elements()\n",
        "legend1 = ax.legend(lines, ['Setosa', 'Versicolour', 'Virginica'], \n",
        "                     title=\"Classes\")\n",
        "ax.add_artist(legend1)\n",
        "\n",
        "plt.xlim(xx.min(), xx.max())\n",
        "plt.ylim(yy.min(), yy.max())\n",
        "plt.title(\"3-Class classification (k = %i)\" % (k))\n",
        "plt.xlabel('Sepal length')\n",
        "plt.ylabel('Sepal width')"
      ],
      "execution_count": null,
      "outputs": [
        {
          "output_type": "execute_result",
          "data": {
            "text/plain": [
              "Text(0, 0.5, 'Sepal width')"
            ]
          },
          "metadata": {},
          "execution_count": 13
        },
        {
          "output_type": "display_data",
          "data": {
            "image/png": "[encoded data removed]",
            "text/plain": [
              "<Figure size 576x432 with 1 Axes>"
            ]
          },
          "metadata": {
            "needs_background": "light"
          }
        }
      ]
    },
    {
      "cell_type": "markdown",
      "metadata": {
        "id": "WlHPJytEOaOG"
      },
      "source": [
        "Let's use the KNN to predict on the whole test set and calculate accuracy"
      ]
    },
    {
      "cell_type": "code",
      "metadata": {
        "id": "Hk7K9q7JOaOG",
        "outputId": "4c11000b-d37b-4f2e-ccb0-b26a1b084db6",
        "colab": {
          "base_uri": "https://localhost:8080/"
        }
      },
      "source": [
        "y_pred = neigh.predict(X_test)\n",
        "accuracy = (y_pred == y_test).mean()\n",
        "print('test accuracy: %f' % accuracy)"
      ],
      "execution_count": null,
      "outputs": [
        {
          "output_type": "stream",
          "name": "stdout",
          "text": [
            "test accuracy: 0.800000\n"
          ]
        }
      ]
    },
    {
      "cell_type": "markdown",
      "metadata": {
        "id": "La0lTdpDOaOK"
      },
      "source": [
        "We can calculate the test accuracy with respect to different choices of K for K-nearest neighbors."
      ]
    },
    {
      "cell_type": "code",
      "metadata": {
        "id": "4NyxYakRcCE6"
      },
      "source": [
        "# Helper function for calculating accuracy\n",
        "def accuracy(y_pred, y_test):\n",
        "    accuracy = (y_pred == y_test).mean()\n",
        "    return accuracy"
      ],
      "execution_count": null,
      "outputs": []
    },
    {
      "cell_type": "code",
      "metadata": {
        "id": "P2l3Uyt5OaOK"
      },
      "source": [
        "test_accs = []\n",
        "for k in range(1, X_train.shape[0]):\n",
        "    # Create K nearest neighbors classifier\n",
        "    neigh = KNeighborsClassifier(n_neighbors=k)\n",
        "    neigh.fit(X_train, y_train)\n",
        "    \n",
        "    # Prediction\n",
        "    y_pred = neigh.predict(X_test)\n",
        "    \n",
        "    # Calculate accuracy\n",
        "    acc = (y_pred == y_test).mean()\n",
        "    test_accs.append(acc)"
      ],
      "execution_count": null,
      "outputs": []
    },
    {
      "cell_type": "code",
      "metadata": {
        "id": "ZgfVLdCnOaON",
        "outputId": "08542ce7-c8e4-4dcd-f1c0-48813e035662",
        "colab": {
          "base_uri": "https://localhost:8080/",
          "height": 405
        }
      },
      "source": [
        "plt.figure(figsize=(10, 6))\n",
        "#plt.grid()\n",
        "plt.plot(list(range(1, X_train.shape[0])), test_accs)\n",
        "plt.xlabel('Number of nearest neighbors (k)')\n",
        "plt.ylabel('Test set accuracy')"
      ],
      "execution_count": null,
      "outputs": [
        {
          "output_type": "execute_result",
          "data": {
            "text/plain": [
              "Text(0, 0.5, 'Test set accuracy')"
            ]
          },
          "metadata": {},
          "execution_count": 17
        },
        {
          "output_type": "display_data",
          "data": {
            "image/png": "[encoded data removed]",
            "text/plain": [
              "<Figure size 720x432 with 1 Axes>"
            ]
          },
          "metadata": {
            "needs_background": "light"
          }
        }
      ]
    },
    {
      "cell_type": "code",
      "source": [
        "optimal_k = test_accs.index(max(test_accs))\n",
        "optimal_k"
      ],
      "metadata": {
        "id": "GG2GT1Kx83lY",
        "colab": {
          "base_uri": "https://localhost:8080/"
        },
        "outputId": "ce633232-414a-4f4d-8a3f-97b877bc1878"
      },
      "execution_count": null,
      "outputs": [
        {
          "output_type": "execute_result",
          "data": {
            "text/plain": [
              "30"
            ]
          },
          "metadata": {},
          "execution_count": 18
        }
      ]
    },
    {
      "cell_type": "markdown",
      "metadata": {
        "id": "sSOeFBfrOaOP"
      },
      "source": [
        "### Question 2\n",
        "\n",
        "See from the graph and answer the following questions:\n",
        "\n",
        "1. Which k gives the best test set accuracy? (2 pts)\n",
        "2. When k becomes larger and close to size of the training set, the test set accuracy drops. Why is that? (4 pts)\n",
        "\n",
        "$\\color{blue}{\\textit Answer:}$ \n",
        "\n",
        "Answers:\n",
        "1. 30\n",
        "2. When k becomes larger and close to the size of the training set, the test set accuracy drops because the knn classifier fails to capture the underlying relationship present in the data, hence it is underfitting. \n"
      ]
    },
    {
      "cell_type": "markdown",
      "metadata": {
        "id": "IxPJg58UdGBP"
      },
      "source": [
        "### Question 3\n",
        "\n",
        "1. Train a KNN classifier for the iris data, but this time use all 4 features instead of only 2. Report on the performance of the model and explain why it is better or worse. What differences do you observe? (10 pts)\n",
        "\n",
        "$\\color{blue}{\\textit Answer:}$ \n",
        "\n",
        "1. Using all features of the iris dataset, the optimal k is first found by running the training/test algorithm using different values of k.\n",
        "\n",
        "\n",
        "2. Observations:\n",
        "- From the figure below, it is seen that the for k = 1 - 76, the accuracy of the classifier fluctuates between 96.7% and 100%. After k = 76, the accuracy drops till it reaches its lowest of 30% at k = 100.\n",
        "\n",
        "- To make a fair comparison with X(with 2 features), we will consider k = 5 in both cases. The respective accuracies are:\n",
        "X(with 2 features) = 80%, \n",
        "X(with 4 features) = 100%\n",
        "\n",
        "- Clearly the performance of the model has improved by considering all the features and it could be that in the previous scenario with 2 features, the model was underfitting.\n"
      ]
    },
    {
      "cell_type": "code",
      "metadata": {
        "id": "dRrSoYTxGf9E",
        "colab": {
          "base_uri": "https://localhost:8080/"
        },
        "outputId": "b8f65b9a-9fdf-4071-b0c0-4d3df6e795f7"
      },
      "source": [
        "X_all_feats = iris.data # The data matrix \n",
        "y_all_feats = iris.target # The class labels\n",
        "\n",
        "# We take 20% as test set\n",
        "X_train, X_test, y_train, y_test = train_test_split(X_all_feats, y_all_feats, test_size=0.2, random_state=42)\n",
        "X_train.shape, X_test.shape"
      ],
      "execution_count": null,
      "outputs": [
        {
          "output_type": "execute_result",
          "data": {
            "text/plain": [
              "((120, 4), (30, 4))"
            ]
          },
          "metadata": {},
          "execution_count": 19
        }
      ]
    },
    {
      "cell_type": "code",
      "source": [
        "# Finding the optimal k\n",
        "rule_of_thumb_k = sqrt(X_train.shape[0])\n",
        "k_values = np.arange(1,100)\n",
        "rule_of_thumb_k "
      ],
      "metadata": {
        "colab": {
          "base_uri": "https://localhost:8080/"
        },
        "id": "B6XMJ9rqR9DT",
        "outputId": "96b000fc-0017-4867-fabc-658405e87bc8"
      },
      "execution_count": null,
      "outputs": [
        {
          "output_type": "execute_result",
          "data": {
            "text/plain": [
              "10.954451150103322"
            ]
          },
          "metadata": {},
          "execution_count": 20
        }
      ]
    },
    {
      "cell_type": "code",
      "source": [
        "test_accs = []\n",
        "for k in k_values:\n",
        "  neigh = KNeighborsClassifier(n_neighbors=k)\n",
        "  neigh.fit(X_train, y_train)\n",
        "\n",
        "  #prediction\n",
        "  y_pred_test = neigh.predict(X_test)\n",
        " \n",
        "  #accuracy\n",
        "  acc_test = (y_pred_test == y_test).mean()\n",
        "  test_accs.append(acc_test)\n"
      ],
      "metadata": {
        "id": "PRFpKX_8T_TO"
      },
      "execution_count": null,
      "outputs": []
    },
    {
      "cell_type": "code",
      "source": [
        "test_accs[4]"
      ],
      "metadata": {
        "colab": {
          "base_uri": "https://localhost:8080/"
        },
        "id": "X2IPmUGFc-O3",
        "outputId": "81748b33-1aec-4fe7-b516-2e6a6166a629"
      },
      "execution_count": null,
      "outputs": [
        {
          "output_type": "execute_result",
          "data": {
            "text/plain": [
              "1.0"
            ]
          },
          "metadata": {},
          "execution_count": 29
        }
      ]
    },
    {
      "cell_type": "code",
      "source": [
        "plt.figure(figsize=(10, 6))\n",
        "plt.grid()\n",
        "plt.plot(k_values, test_accs)\n",
        "plt.xlabel('Number of nearest neighbors (k)')\n",
        "plt.ylabel('Test set accuracy')"
      ],
      "metadata": {
        "colab": {
          "base_uri": "https://localhost:8080/",
          "height": 405
        },
        "id": "TLvy_knRWTed",
        "outputId": "5db7a932-6163-4e36-ca83-2d35b3d260c4"
      },
      "execution_count": null,
      "outputs": [
        {
          "output_type": "execute_result",
          "data": {
            "text/plain": [
              "Text(0, 0.5, 'Test set accuracy')"
            ]
          },
          "metadata": {},
          "execution_count": 22
        },
        {
          "output_type": "display_data",
          "data": {
            "image/png": "[encoded data removed]",
            "text/plain": [
              "<Figure size 720x432 with 1 Axes>"
            ]
          },
          "metadata": {
            "needs_background": "light"
          }
        }
      ]
    },
    {
      "cell_type": "code",
      "source": [
        ""
      ],
      "metadata": {
        "id": "tgoQ8glfQUxs"
      },
      "execution_count": null,
      "outputs": []
    }
  ]
}
